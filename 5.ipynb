{
  "nbformat": 4,
  "nbformat_minor": 0,
  "metadata": {
    "colab": {
      "provenance": [],
      "authorship_tag": "ABX9TyOEH2xInHTiWWrFOIqkN5cx",
      "include_colab_link": true
    },
    "kernelspec": {
      "name": "python3",
      "display_name": "Python 3"
    },
    "language_info": {
      "name": "python"
    }
  },
  "cells": [
    {
      "cell_type": "markdown",
      "metadata": {
        "id": "view-in-github",
        "colab_type": "text"
      },
      "source": [
        "<a href=\"https://colab.research.google.com/github/waytoanup95/ANUP_INEURON_ASSIGNMENTS/blob/main/5.ipynb\" target=\"_parent\"><img src=\"https://colab.research.google.com/assets/colab-badge.svg\" alt=\"Open In Colab\"/></a>"
      ]
    },
    {
      "cell_type": "code",
      "execution_count": 12,
      "metadata": {
        "id": "h14CzQWkFds0"
      },
      "outputs": [],
      "source": [
        "#1. What does an empty dictionary's code look like?\n",
        "\n",
        "AA_dict = {}\n"
      ]
    },
    {
      "cell_type": "code",
      "source": [
        "#2. What is the value of a dictionary value with the key 'foo' and the value 42?\n",
        "Dict1 = {'foo': 42}\n",
        "print(Dict1['foo'])"
      ],
      "metadata": {
        "colab": {
          "base_uri": "https://localhost:8080/"
        },
        "id": "hB4GDRQQByh9",
        "outputId": "2d4ebfde-d356-42fd-f29c-3d04b9cfa997"
      },
      "execution_count": 13,
      "outputs": [
        {
          "output_type": "stream",
          "name": "stdout",
          "text": [
            "42\n"
          ]
        }
      ]
    },
    {
      "cell_type": "code",
      "source": [
        "#3. What is the most significant distinction between a dictionary and a list?\n",
        "#dictionaries provide a way to associate keys with values, enabling fast lookups based on keys, whereas lists maintain an ordered collection of elements accessible by index."
      ],
      "metadata": {
        "id": "ACiFbqPLB1oq"
      },
      "execution_count": 1,
      "outputs": []
    },
    {
      "cell_type": "code",
      "source": [
        "#KeyError occurs , because there is no key 'foo' in the dictionary spam."
      ],
      "metadata": {
        "id": "Kto1f9RsB9o7"
      },
      "execution_count": 2,
      "outputs": []
    },
    {
      "cell_type": "code",
      "source": [
        "#The expressions 'cat' in spam and 'cat' in spam.keys() both check for the presence of the key 'cat' in the dictionary spam"
      ],
      "metadata": {
        "id": "y6joZ43XCBVJ"
      },
      "execution_count": 3,
      "outputs": []
    },
    {
      "cell_type": "code",
      "source": [
        "#The expressions 'cat' in spam and 'cat' in spam.values() check for the presence of the value 'cat' in the dictionary spam,"
      ],
      "metadata": {
        "id": "XJzNCz1OCD44"
      },
      "execution_count": 4,
      "outputs": []
    },
    {
      "cell_type": "code",
      "source": [
        "#7. What is a shortcut for the following code?\n",
        "#if 'color' not in spam:\n",
        "#spam['color'] = 'black'\n",
        "\n",
        "#spam.setdefault('color', 'black')"
      ],
      "metadata": {
        "id": "eI4i8SMOCGCD"
      },
      "execution_count": 8,
      "outputs": []
    },
    {
      "cell_type": "code",
      "source": [
        "\n",
        "\n",
        "#8. How do you \"pretty print\" dictionary values using which module and function?\n",
        "\n",
        "import pprint\n",
        "\n",
        "dict_1 = {'name': 'ALOK', 'age': 25, 'city': 'PUNE'}\n",
        "\n",
        "# Pretty print the dictionary\n",
        "pprint.pprint(dict_1)\n"
      ],
      "metadata": {
        "colab": {
          "base_uri": "https://localhost:8080/"
        },
        "id": "3Y6Uw_BTCIOm",
        "outputId": "cd7c0934-f3e0-4e3c-bf54-4e23be31b36b"
      },
      "execution_count": 12,
      "outputs": [
        {
          "output_type": "stream",
          "name": "stdout",
          "text": [
            "{'age': 25, 'city': 'PUNE', 'name': 'ALOK'}\n"
          ]
        }
      ]
    },
    {
      "cell_type": "code",
      "source": [],
      "metadata": {
        "id": "5cVERanHCLVi"
      },
      "execution_count": null,
      "outputs": []
    }
  ]
}